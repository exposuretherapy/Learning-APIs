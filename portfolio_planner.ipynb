{
 "cells": [
  {
   "cell_type": "code",
   "execution_count": 1,
   "metadata": {},
   "outputs": [],
   "source": [
    "import numpy as np\n",
    "import pandas as pd\n",
    "from datetime import datetime, timedelta\n",
    "import matplotlib.pyplot as plt\n",
    "%matplotlib inline"
   ]
  },
  {
   "cell_type": "code",
   "execution_count": 2,
   "metadata": {},
   "outputs": [],
   "source": [
    "np.random.seed(42)"
   ]
  },
  {
   "cell_type": "markdown",
   "metadata": {},
   "source": [
    "# Portfolio Planner\n",
    "\n",
    "In this activity, you will use the iexfinance api to grab historical data for a 60/40 portfolio using `SPY` to represent the stock portion and `AGG` to represent the bonds."
   ]
  },
  {
   "cell_type": "code",
   "execution_count": 3,
   "metadata": {},
   "outputs": [],
   "source": [
    "# THESE NEXT TWO CELLS ARE GOING TO BE COMMENTED OUT SO THAT WE \n",
    "# DON'T PULL TOO MANY TIMES FROM IEX. I WROTE THE DATA INTO A CSV\n",
    "# AND AM GOING TO JUST PULL THAT FOR THIS WORK.\n",
    "\n",
    "# from iexfinance.stocks import get_historical_data\n",
    "# import iexfinance as iex"
   ]
  },
  {
   "cell_type": "markdown",
   "metadata": {},
   "source": [
    "# Data Collection\n",
    "\n",
    "In this step, you will need to use the IEX api to fetch closing prices for the `SPY` and `AGG` tickers. Save the results as a pandas DataFrame"
   ]
  },
  {
   "cell_type": "code",
   "execution_count": 4,
   "metadata": {},
   "outputs": [],
   "source": [
    "# list_of_tickers = [\"SPY\", \"AGG\"]\n",
    "# end_date = datetime.now()\n",
    "# start_date = end_date + timedelta(-365)\n",
    "# closing_prices = pd.DataFrame(get_historical_data(list_of_tickers, start_date, end_date, output_format='pandas'))"
   ]
  },
  {
   "cell_type": "code",
   "execution_count": 5,
   "metadata": {},
   "outputs": [],
   "source": [
    "# closing_prices.to_csv('~/Fintech/Homework/Learning-APIs/portfolio_planner.csv')"
   ]
  },
  {
   "cell_type": "code",
   "execution_count": 6,
   "metadata": {},
   "outputs": [],
   "source": [
    "closing_prices_path = ('../Learning-APIs/portfolio_planner.csv')"
   ]
  },
  {
   "cell_type": "code",
   "execution_count": 7,
   "metadata": {},
   "outputs": [
    {
     "data": {
      "text/html": [
       "<div>\n",
       "<style scoped>\n",
       "    .dataframe tbody tr th:only-of-type {\n",
       "        vertical-align: middle;\n",
       "    }\n",
       "\n",
       "    .dataframe tbody tr th {\n",
       "        vertical-align: top;\n",
       "    }\n",
       "\n",
       "    .dataframe thead th {\n",
       "        text-align: right;\n",
       "    }\n",
       "</style>\n",
       "<table border=\"1\" class=\"dataframe\">\n",
       "  <thead>\n",
       "    <tr style=\"text-align: right;\">\n",
       "      <th></th>\n",
       "      <th>Unnamed: 0</th>\n",
       "      <th>open</th>\n",
       "      <th>high</th>\n",
       "      <th>low</th>\n",
       "      <th>close</th>\n",
       "      <th>volume</th>\n",
       "      <th>open.1</th>\n",
       "      <th>high.1</th>\n",
       "      <th>low.1</th>\n",
       "      <th>close.1</th>\n",
       "      <th>volume.1</th>\n",
       "    </tr>\n",
       "  </thead>\n",
       "  <tbody>\n",
       "    <tr>\n",
       "      <td>0</td>\n",
       "      <td>date</td>\n",
       "      <td>NaN</td>\n",
       "      <td>NaN</td>\n",
       "      <td>NaN</td>\n",
       "      <td>NaN</td>\n",
       "      <td>NaN</td>\n",
       "      <td>NaN</td>\n",
       "      <td>NaN</td>\n",
       "      <td>NaN</td>\n",
       "      <td>NaN</td>\n",
       "      <td>NaN</td>\n",
       "    </tr>\n",
       "    <tr>\n",
       "      <td>1</td>\n",
       "      <td>2019-01-22</td>\n",
       "      <td>264.82</td>\n",
       "      <td>265.06</td>\n",
       "      <td>261.06</td>\n",
       "      <td>262.86</td>\n",
       "      <td>115531183.0</td>\n",
       "      <td>106.44</td>\n",
       "      <td>106.62</td>\n",
       "      <td>106.44</td>\n",
       "      <td>106.44</td>\n",
       "      <td>6823956.0</td>\n",
       "    </tr>\n",
       "    <tr>\n",
       "      <td>2</td>\n",
       "      <td>2019-01-23</td>\n",
       "      <td>264.01</td>\n",
       "      <td>264.79</td>\n",
       "      <td>260.66</td>\n",
       "      <td>263.41</td>\n",
       "      <td>86030287.0</td>\n",
       "      <td>106.38</td>\n",
       "      <td>106.59</td>\n",
       "      <td>106.37</td>\n",
       "      <td>106.55</td>\n",
       "      <td>3222846.0</td>\n",
       "    </tr>\n",
       "    <tr>\n",
       "      <td>3</td>\n",
       "      <td>2019-01-24</td>\n",
       "      <td>263.21</td>\n",
       "      <td>264.20</td>\n",
       "      <td>262.08</td>\n",
       "      <td>263.55</td>\n",
       "      <td>59204139.0</td>\n",
       "      <td>106.72</td>\n",
       "      <td>106.84</td>\n",
       "      <td>106.67</td>\n",
       "      <td>106.73</td>\n",
       "      <td>7308898.0</td>\n",
       "    </tr>\n",
       "    <tr>\n",
       "      <td>4</td>\n",
       "      <td>2019-01-25</td>\n",
       "      <td>265.61</td>\n",
       "      <td>266.70</td>\n",
       "      <td>263.66</td>\n",
       "      <td>265.78</td>\n",
       "      <td>96883358.0</td>\n",
       "      <td>106.64</td>\n",
       "      <td>106.70</td>\n",
       "      <td>106.56</td>\n",
       "      <td>106.68</td>\n",
       "      <td>3469453.0</td>\n",
       "    </tr>\n",
       "  </tbody>\n",
       "</table>\n",
       "</div>"
      ],
      "text/plain": [
       "   Unnamed: 0    open    high     low   close       volume  open.1  high.1  \\\n",
       "0        date     NaN     NaN     NaN     NaN          NaN     NaN     NaN   \n",
       "1  2019-01-22  264.82  265.06  261.06  262.86  115531183.0  106.44  106.62   \n",
       "2  2019-01-23  264.01  264.79  260.66  263.41   86030287.0  106.38  106.59   \n",
       "3  2019-01-24  263.21  264.20  262.08  263.55   59204139.0  106.72  106.84   \n",
       "4  2019-01-25  265.61  266.70  263.66  265.78   96883358.0  106.64  106.70   \n",
       "\n",
       "    low.1  close.1   volume.1  \n",
       "0     NaN      NaN        NaN  \n",
       "1  106.44   106.44  6823956.0  \n",
       "2  106.37   106.55  3222846.0  \n",
       "3  106.67   106.73  7308898.0  \n",
       "4  106.56   106.68  3469453.0  "
      ]
     },
     "execution_count": 7,
     "metadata": {},
     "output_type": "execute_result"
    }
   ],
   "source": [
    "closing_prices_csv = pd.read_csv(closing_prices_path,header=1)\n",
    "closing_prices_csv.head()"
   ]
  },
  {
   "cell_type": "code",
   "execution_count": 8,
   "metadata": {},
   "outputs": [
    {
     "data": {
      "text/html": [
       "<div>\n",
       "<style scoped>\n",
       "    .dataframe tbody tr th:only-of-type {\n",
       "        vertical-align: middle;\n",
       "    }\n",
       "\n",
       "    .dataframe tbody tr th {\n",
       "        vertical-align: top;\n",
       "    }\n",
       "\n",
       "    .dataframe thead th {\n",
       "        text-align: right;\n",
       "    }\n",
       "</style>\n",
       "<table border=\"1\" class=\"dataframe\">\n",
       "  <thead>\n",
       "    <tr style=\"text-align: right;\">\n",
       "      <th></th>\n",
       "      <th>SPY</th>\n",
       "      <th>AGG</th>\n",
       "    </tr>\n",
       "    <tr>\n",
       "      <th>Date</th>\n",
       "      <th></th>\n",
       "      <th></th>\n",
       "    </tr>\n",
       "  </thead>\n",
       "  <tbody>\n",
       "    <tr>\n",
       "      <td>2019-01-22</td>\n",
       "      <td>262.86</td>\n",
       "      <td>106.44</td>\n",
       "    </tr>\n",
       "    <tr>\n",
       "      <td>2019-01-23</td>\n",
       "      <td>263.41</td>\n",
       "      <td>106.55</td>\n",
       "    </tr>\n",
       "    <tr>\n",
       "      <td>2019-01-24</td>\n",
       "      <td>263.55</td>\n",
       "      <td>106.73</td>\n",
       "    </tr>\n",
       "    <tr>\n",
       "      <td>2019-01-25</td>\n",
       "      <td>265.78</td>\n",
       "      <td>106.68</td>\n",
       "    </tr>\n",
       "    <tr>\n",
       "      <td>2019-01-28</td>\n",
       "      <td>263.76</td>\n",
       "      <td>106.62</td>\n",
       "    </tr>\n",
       "  </tbody>\n",
       "</table>\n",
       "</div>"
      ],
      "text/plain": [
       "               SPY     AGG\n",
       "Date                      \n",
       "2019-01-22  262.86  106.44\n",
       "2019-01-23  263.41  106.55\n",
       "2019-01-24  263.55  106.73\n",
       "2019-01-25  265.78  106.68\n",
       "2019-01-28  263.76  106.62"
      ]
     },
     "execution_count": 8,
     "metadata": {},
     "output_type": "execute_result"
    }
   ],
   "source": [
    "closing_prices_csv.drop(columns=['open','high','low','volume','open.1','high.1','low.1','volume.1'],inplace=True)\n",
    "closing_prices_csv.rename(columns={'Unnamed: 0':'Date','close':'SPY','close.1':'AGG'},inplace=True)\n",
    "closing_prices_csv.drop([0], axis=0, inplace=True)\n",
    "closing_prices_csv.set_index(['Date'],inplace=True)\n",
    "closing_prices_csv.head()"
   ]
  },
  {
   "cell_type": "markdown",
   "metadata": {},
   "source": [
    "# Monte Carlo Simulation\n",
    "\n",
    "In this step, you will run Monte Carlo Simulations for your portfolio to model portfolio performance at different retirement ages. \n",
    "\n",
    "Complete the following steps:\n",
    "1. Calculate the daily returns for the SPY and AGG closing prices.\n",
    "2. Calculate volatility for both the SPY and AGG closing prices.\n",
    "3. Find the last day's closing price for both stocks and save those as variables.\n",
    "4. Run a Monte Carlo Simulation of at least 500 iterations and generate at least 30 years of closing prices\n",
    "\n",
    "### HINTS:\n",
    "There are 252 trading days per year, so the number of records to generate for each Monte Carlo run will be 252 days * 30 years"
   ]
  },
  {
   "cell_type": "code",
   "execution_count": 9,
   "metadata": {},
   "outputs": [
    {
     "data": {
      "text/html": [
       "<div>\n",
       "<style scoped>\n",
       "    .dataframe tbody tr th:only-of-type {\n",
       "        vertical-align: middle;\n",
       "    }\n",
       "\n",
       "    .dataframe tbody tr th {\n",
       "        vertical-align: top;\n",
       "    }\n",
       "\n",
       "    .dataframe thead th {\n",
       "        text-align: right;\n",
       "    }\n",
       "</style>\n",
       "<table border=\"1\" class=\"dataframe\">\n",
       "  <thead>\n",
       "    <tr style=\"text-align: right;\">\n",
       "      <th></th>\n",
       "      <th>SPY</th>\n",
       "      <th>AGG</th>\n",
       "    </tr>\n",
       "    <tr>\n",
       "      <th>Date</th>\n",
       "      <th></th>\n",
       "      <th></th>\n",
       "    </tr>\n",
       "  </thead>\n",
       "  <tbody>\n",
       "    <tr>\n",
       "      <td>2019-01-22</td>\n",
       "      <td>NaN</td>\n",
       "      <td>NaN</td>\n",
       "    </tr>\n",
       "    <tr>\n",
       "      <td>2019-01-23</td>\n",
       "      <td>0.002092</td>\n",
       "      <td>0.001033</td>\n",
       "    </tr>\n",
       "    <tr>\n",
       "      <td>2019-01-24</td>\n",
       "      <td>0.000531</td>\n",
       "      <td>0.001689</td>\n",
       "    </tr>\n",
       "    <tr>\n",
       "      <td>2019-01-25</td>\n",
       "      <td>0.008461</td>\n",
       "      <td>-0.000468</td>\n",
       "    </tr>\n",
       "    <tr>\n",
       "      <td>2019-01-28</td>\n",
       "      <td>-0.007600</td>\n",
       "      <td>-0.000562</td>\n",
       "    </tr>\n",
       "  </tbody>\n",
       "</table>\n",
       "</div>"
      ],
      "text/plain": [
       "                 SPY       AGG\n",
       "Date                          \n",
       "2019-01-22       NaN       NaN\n",
       "2019-01-23  0.002092  0.001033\n",
       "2019-01-24  0.000531  0.001689\n",
       "2019-01-25  0.008461 -0.000468\n",
       "2019-01-28 -0.007600 -0.000562"
      ]
     },
     "execution_count": 9,
     "metadata": {},
     "output_type": "execute_result"
    }
   ],
   "source": [
    "daily_returns=closing_prices_csv.pct_change()\n",
    "daily_returns.head()"
   ]
  },
  {
   "cell_type": "code",
   "execution_count": 10,
   "metadata": {},
   "outputs": [
    {
     "data": {
      "text/plain": [
       "SPY    0.000961\n",
       "AGG    0.000243\n",
       "dtype: float64"
      ]
     },
     "execution_count": 10,
     "metadata": {},
     "output_type": "execute_result"
    }
   ],
   "source": [
    "avg_daily_return=daily_returns.mean()\n",
    "avg_daily_return"
   ]
  },
  {
   "cell_type": "code",
   "execution_count": 11,
   "metadata": {},
   "outputs": [
    {
     "data": {
      "text/plain": [
       "SPY    0.007402\n",
       "AGG    0.002085\n",
       "dtype: float64"
      ]
     },
     "execution_count": 11,
     "metadata": {},
     "output_type": "execute_result"
    }
   ],
   "source": [
    "std_dev_daily_returns = daily_returns.std()\n",
    "std_dev_daily_returns"
   ]
  },
  {
   "cell_type": "code",
   "execution_count": 12,
   "metadata": {},
   "outputs": [
    {
     "data": {
      "text/plain": [
       "SPY    331.95\n",
       "AGG    113.05\n",
       "Name: 2020-01-17, dtype: float64"
      ]
     },
     "execution_count": 12,
     "metadata": {},
     "output_type": "execute_result"
    }
   ],
   "source": [
    "# Save the last day's closing price\n",
    "last_price = closing_prices_csv.iloc[-1]\n",
    "last_price"
   ]
  },
  {
   "cell_type": "code",
   "execution_count": 13,
   "metadata": {},
   "outputs": [
    {
     "data": {
      "text/html": [
       "<div>\n",
       "<style scoped>\n",
       "    .dataframe tbody tr th:only-of-type {\n",
       "        vertical-align: middle;\n",
       "    }\n",
       "\n",
       "    .dataframe tbody tr th {\n",
       "        vertical-align: top;\n",
       "    }\n",
       "\n",
       "    .dataframe thead th {\n",
       "        text-align: right;\n",
       "    }\n",
       "</style>\n",
       "<table border=\"1\" class=\"dataframe\">\n",
       "  <thead>\n",
       "    <tr style=\"text-align: right;\">\n",
       "      <th></th>\n",
       "      <th>2020-01-17</th>\n",
       "    </tr>\n",
       "  </thead>\n",
       "  <tbody>\n",
       "    <tr>\n",
       "      <td>SPY</td>\n",
       "      <td>331.95</td>\n",
       "    </tr>\n",
       "    <tr>\n",
       "      <td>AGG</td>\n",
       "      <td>113.05</td>\n",
       "    </tr>\n",
       "  </tbody>\n",
       "</table>\n",
       "</div>"
      ],
      "text/plain": [
       "     2020-01-17\n",
       "SPY      331.95\n",
       "AGG      113.05"
      ]
     },
     "execution_count": 13,
     "metadata": {},
     "output_type": "execute_result"
    }
   ],
   "source": [
    "last_price = pd.DataFrame(last_price)\n",
    "last_price.rename(columns={'2020-01-17':'2020-01-17'},inplace=True)\n",
    "last_price"
   ]
  },
  {
   "cell_type": "code",
   "execution_count": 14,
   "metadata": {},
   "outputs": [
    {
     "name": "stdout",
     "output_type": "stream",
     "text": [
      "SPY last price occurred on 1-17-20 and was 331.95\n"
     ]
    }
   ],
   "source": [
    "print(f'SPY last price occurred on 1-17-20 and was {last_price.iloc[0][-1]}')"
   ]
  },
  {
   "cell_type": "code",
   "execution_count": 15,
   "metadata": {},
   "outputs": [],
   "source": [
    "# Setup the Monte Carlo Parameters\n",
    "number_simulations = 500\n",
    "number_records = 252 * 30"
   ]
  },
  {
   "cell_type": "code",
   "execution_count": 16,
   "metadata": {},
   "outputs": [
    {
     "data": {
      "text/plain": [
       "numpy.float64"
      ]
     },
     "execution_count": 16,
     "metadata": {},
     "output_type": "execute_result"
    }
   ],
   "source": [
    "simulated_SPY=last_price.iloc[0][-1]\n",
    "type(simulated_SPY)"
   ]
  },
  {
   "cell_type": "code",
   "execution_count": 17,
   "metadata": {},
   "outputs": [
    {
     "data": {
      "text/html": [
       "<div>\n",
       "<style scoped>\n",
       "    .dataframe tbody tr th:only-of-type {\n",
       "        vertical-align: middle;\n",
       "    }\n",
       "\n",
       "    .dataframe tbody tr th {\n",
       "        vertical-align: top;\n",
       "    }\n",
       "\n",
       "    .dataframe thead th {\n",
       "        text-align: right;\n",
       "    }\n",
       "</style>\n",
       "<table border=\"1\" class=\"dataframe\">\n",
       "  <thead>\n",
       "    <tr style=\"text-align: right;\">\n",
       "      <th></th>\n",
       "      <th>0</th>\n",
       "      <th>1</th>\n",
       "      <th>2</th>\n",
       "      <th>3</th>\n",
       "      <th>4</th>\n",
       "      <th>5</th>\n",
       "      <th>6</th>\n",
       "      <th>7</th>\n",
       "      <th>8</th>\n",
       "      <th>9</th>\n",
       "      <th>...</th>\n",
       "      <th>490</th>\n",
       "      <th>491</th>\n",
       "      <th>492</th>\n",
       "      <th>493</th>\n",
       "      <th>494</th>\n",
       "      <th>495</th>\n",
       "      <th>496</th>\n",
       "      <th>497</th>\n",
       "      <th>498</th>\n",
       "      <th>499</th>\n",
       "    </tr>\n",
       "  </thead>\n",
       "  <tbody>\n",
       "    <tr>\n",
       "      <td>0</td>\n",
       "      <td>1.000000</td>\n",
       "      <td>1.000000</td>\n",
       "      <td>1.000000</td>\n",
       "      <td>1.000000</td>\n",
       "      <td>1.000000</td>\n",
       "      <td>1.000000</td>\n",
       "      <td>1.000000</td>\n",
       "      <td>1.000000</td>\n",
       "      <td>1.000000</td>\n",
       "      <td>1.000000</td>\n",
       "      <td>...</td>\n",
       "      <td>1.000000</td>\n",
       "      <td>1.000000</td>\n",
       "      <td>1.000000</td>\n",
       "      <td>1.000000</td>\n",
       "      <td>1.000000</td>\n",
       "      <td>1.000000</td>\n",
       "      <td>1.000000</td>\n",
       "      <td>1.000000</td>\n",
       "      <td>1.000000</td>\n",
       "      <td>1.000000</td>\n",
       "    </tr>\n",
       "    <tr>\n",
       "      <td>1</td>\n",
       "      <td>1.002765</td>\n",
       "      <td>0.996222</td>\n",
       "      <td>0.993929</td>\n",
       "      <td>0.999896</td>\n",
       "      <td>1.005468</td>\n",
       "      <td>1.006505</td>\n",
       "      <td>1.008854</td>\n",
       "      <td>0.996870</td>\n",
       "      <td>1.001856</td>\n",
       "      <td>0.999339</td>\n",
       "      <td>...</td>\n",
       "      <td>1.002160</td>\n",
       "      <td>0.996121</td>\n",
       "      <td>1.006918</td>\n",
       "      <td>1.000176</td>\n",
       "      <td>0.997978</td>\n",
       "      <td>1.003057</td>\n",
       "      <td>0.996650</td>\n",
       "      <td>0.994530</td>\n",
       "      <td>1.003012</td>\n",
       "      <td>0.997636</td>\n",
       "    </tr>\n",
       "    <tr>\n",
       "      <td>2</td>\n",
       "      <td>1.007598</td>\n",
       "      <td>1.000038</td>\n",
       "      <td>0.993478</td>\n",
       "      <td>0.999056</td>\n",
       "      <td>1.008655</td>\n",
       "      <td>0.998236</td>\n",
       "      <td>1.003838</td>\n",
       "      <td>0.987116</td>\n",
       "      <td>1.001268</td>\n",
       "      <td>1.007326</td>\n",
       "      <td>...</td>\n",
       "      <td>1.004317</td>\n",
       "      <td>1.003128</td>\n",
       "      <td>1.009988</td>\n",
       "      <td>1.001913</td>\n",
       "      <td>0.999475</td>\n",
       "      <td>1.000177</td>\n",
       "      <td>0.996370</td>\n",
       "      <td>0.995111</td>\n",
       "      <td>1.003086</td>\n",
       "      <td>1.001348</td>\n",
       "    </tr>\n",
       "    <tr>\n",
       "      <td>3</td>\n",
       "      <td>1.007033</td>\n",
       "      <td>1.000251</td>\n",
       "      <td>0.996933</td>\n",
       "      <td>0.993854</td>\n",
       "      <td>1.008206</td>\n",
       "      <td>1.001209</td>\n",
       "      <td>1.007665</td>\n",
       "      <td>0.981654</td>\n",
       "      <td>1.001242</td>\n",
       "      <td>1.015214</td>\n",
       "      <td>...</td>\n",
       "      <td>1.004537</td>\n",
       "      <td>1.005779</td>\n",
       "      <td>1.014524</td>\n",
       "      <td>1.003520</td>\n",
       "      <td>0.993478</td>\n",
       "      <td>0.999223</td>\n",
       "      <td>1.000070</td>\n",
       "      <td>1.000454</td>\n",
       "      <td>1.006429</td>\n",
       "      <td>1.000479</td>\n",
       "    </tr>\n",
       "    <tr>\n",
       "      <td>4</td>\n",
       "      <td>1.015419</td>\n",
       "      <td>1.003153</td>\n",
       "      <td>0.993831</td>\n",
       "      <td>0.999488</td>\n",
       "      <td>1.009844</td>\n",
       "      <td>0.996768</td>\n",
       "      <td>1.006748</td>\n",
       "      <td>0.979196</td>\n",
       "      <td>1.008793</td>\n",
       "      <td>1.006011</td>\n",
       "      <td>...</td>\n",
       "      <td>1.006454</td>\n",
       "      <td>1.004336</td>\n",
       "      <td>1.013382</td>\n",
       "      <td>1.008449</td>\n",
       "      <td>0.999416</td>\n",
       "      <td>0.996601</td>\n",
       "      <td>0.994983</td>\n",
       "      <td>1.001323</td>\n",
       "      <td>1.010826</td>\n",
       "      <td>1.003931</td>\n",
       "    </tr>\n",
       "  </tbody>\n",
       "</table>\n",
       "<p>5 rows × 500 columns</p>\n",
       "</div>"
      ],
      "text/plain": [
       "        0         1         2         3         4         5         6    \\\n",
       "0  1.000000  1.000000  1.000000  1.000000  1.000000  1.000000  1.000000   \n",
       "1  1.002765  0.996222  0.993929  0.999896  1.005468  1.006505  1.008854   \n",
       "2  1.007598  1.000038  0.993478  0.999056  1.008655  0.998236  1.003838   \n",
       "3  1.007033  1.000251  0.996933  0.993854  1.008206  1.001209  1.007665   \n",
       "4  1.015419  1.003153  0.993831  0.999488  1.009844  0.996768  1.006748   \n",
       "\n",
       "        7         8         9    ...       490       491       492       493  \\\n",
       "0  1.000000  1.000000  1.000000  ...  1.000000  1.000000  1.000000  1.000000   \n",
       "1  0.996870  1.001856  0.999339  ...  1.002160  0.996121  1.006918  1.000176   \n",
       "2  0.987116  1.001268  1.007326  ...  1.004317  1.003128  1.009988  1.001913   \n",
       "3  0.981654  1.001242  1.015214  ...  1.004537  1.005779  1.014524  1.003520   \n",
       "4  0.979196  1.008793  1.006011  ...  1.006454  1.004336  1.013382  1.008449   \n",
       "\n",
       "        494       495       496       497       498       499  \n",
       "0  1.000000  1.000000  1.000000  1.000000  1.000000  1.000000  \n",
       "1  0.997978  1.003057  0.996650  0.994530  1.003012  0.997636  \n",
       "2  0.999475  1.000177  0.996370  0.995111  1.003086  1.001348  \n",
       "3  0.993478  0.999223  1.000070  1.000454  1.006429  1.000479  \n",
       "4  0.999416  0.996601  0.994983  1.001323  1.010826  1.003931  \n",
       "\n",
       "[5 rows x 500 columns]"
      ]
     },
     "execution_count": 17,
     "metadata": {},
     "output_type": "execute_result"
    }
   ],
   "source": [
    "# Run the Monte Carlo Simulation\n",
    "simulated_prices=pd.DataFrame({'sim_SPY':[],'sim_AGG':[]})\n",
    "portfolio_cum_returns=pd.DataFrame()\n",
    "\n",
    "for x in range(number_simulations):\n",
    "    \n",
    "    \n",
    "    simulated_SPY=[last_price.iloc[0][-1]]\n",
    "    simulated_AGG=[last_price.iloc[1][-1]]\n",
    "    \n",
    "    \n",
    "    for i in range(number_records):\n",
    "        simulated_SPY_price=simulated_SPY[-1]*(1+np.random.normal(avg_daily_return[0],std_dev_daily_returns[0]))\n",
    "        simulated_AGG_price=simulated_AGG[-1]*(1+np.random.normal(avg_daily_return[1],std_dev_daily_returns[1]))\n",
    "        \n",
    "        simulated_SPY.append(simulated_SPY_price)\n",
    "        simulated_AGG.append(simulated_AGG_price)\n",
    "        \n",
    "    simulated_prices[\"sim_SPY\"] = pd.Series(simulated_SPY)\n",
    "    simulated_prices['sim_AGG'] = pd.Series(simulated_AGG)\n",
    "    \n",
    "    simulated_daily_returns = simulated_prices.pct_change()\n",
    "    \n",
    "    weights = [.60,.40]\n",
    "    \n",
    "    portfolio_daily_returns = simulated_daily_returns.dot(weights)\n",
    "    \n",
    "    portfolio_cum_returns[x] = (1+portfolio_daily_returns.fillna(0)).cumprod()\n",
    "\n",
    "portfolio_cum_returns.head()"
   ]
  },
  {
   "cell_type": "code",
   "execution_count": 19,
   "metadata": {},
   "outputs": [
    {
     "data": {
      "text/plain": [
       "<matplotlib.axes._subplots.AxesSubplot at 0x1f97084dd48>"
      ]
     },
     "execution_count": 19,
     "metadata": {},
     "output_type": "execute_result"
    },
    {
     "data": {
      "image/png": "[encoded data removed]",
      "text/plain": [
       "<Figure size 432x288 with 1 Axes>"
      ]
     },
     "metadata": {
      "needs_background": "light"
     },
     "output_type": "display_data"
    }
   ],
   "source": [
    "# Visualize the Simulation\n",
    "portfolio_cum_returns.plot(legend=None,title=f'Simulations of Cumulative Portfolio Returns')"
   ]
  },
  {
   "cell_type": "code",
   "execution_count": 20,
   "metadata": {},
   "outputs": [
    {
     "data": {
      "text/plain": [
       "0    172.138716\n",
       "1    140.790828\n",
       "2    183.324131\n",
       "3    196.921876\n",
       "4    187.814836\n",
       "Name: 7531, dtype: float64"
      ]
     },
     "execution_count": 20,
     "metadata": {},
     "output_type": "execute_result"
    }
   ],
   "source": [
    "# Select the last row for the cumulative returns \n",
    "# (cumulative returns at 30 years)\n",
    "sim_cum_30 = portfolio_cum_returns.iloc[-30,:]\n",
    "sim_cum_30.head()"
   ]
  },
  {
   "cell_type": "code",
   "execution_count": 21,
   "metadata": {},
   "outputs": [
    {
     "data": {
      "text/plain": [
       "0    171.452697\n",
       "1    140.247484\n",
       "2    183.651806\n",
       "3    198.379154\n",
       "4    188.816890\n",
       "Name: 7541, dtype: float64"
      ]
     },
     "execution_count": 21,
     "metadata": {},
     "output_type": "execute_result"
    }
   ],
   "source": [
    "# Select the last row for the cumulative returns \n",
    "# (cumulative returns at 20 years)\n",
    "sim_cum_20 = portfolio_cum_returns.iloc[-20,:]\n",
    "sim_cum_20.head()"
   ]
  },
  {
   "cell_type": "code",
   "execution_count": 68,
   "metadata": {},
   "outputs": [
    {
     "data": {
      "text/plain": [
       "pandas.core.frame.DataFrame"
      ]
     },
     "execution_count": 68,
     "metadata": {},
     "output_type": "execute_result"
    }
   ],
   "source": [
    "type(sim_cum_20)"
   ]
  },
  {
   "cell_type": "code",
   "execution_count": 71,
   "metadata": {},
   "outputs": [
    {
     "data": {
      "text/plain": [
       "<matplotlib.axes._subplots.AxesSubplot at 0x1a0747c8b48>"
      ]
     },
     "execution_count": 71,
     "metadata": {},
     "output_type": "execute_result"
    },
    {
     "data": {
      "image/png": "[encoded data removed]",
      "text/plain": [
       "<Figure size 432x288 with 1 Axes>"
      ]
     },
     "metadata": {
      "needs_background": "light"
     },
     "output_type": "display_data"
    }
   ],
   "source": [
    "# Display the 90% confidence interval for the ending returns\n",
    "plt.figure()\n",
    "sim_cum_returns['sim_SPY'].plot.hist(bins=[0,1,2,3,4,5,6,7,8,9,10],title='90% Interval for 20 year and 30 year returns')\n",
    "# plt.axvline(sim_cum_20.iloc[0], color='r')\n",
    "# plt.axvline(sim_cum_30.iloc[0], color='r')"
   ]
  },
  {
   "cell_type": "code",
   "execution_count": null,
   "metadata": {},
   "outputs": [],
   "source": [
    "# Visualize the distribution of the ending returns\n",
    "# YOUR CODE HERE"
   ]
  },
  {
   "cell_type": "markdown",
   "metadata": {},
   "source": [
    "---"
   ]
  },
  {
   "cell_type": "markdown",
   "metadata": {},
   "source": [
    "# Retirement Analysis\n",
    "\n",
    "In this section, you will use the monte carlo model to answer the following retirement planning questions:\n",
    "\n",
    "1. What are the expected cumulative returns at 30 years for the 10th, 50th, and 90th percentiles?\n",
    "2. Given an initial investment of `$20,000`, what is the expected portfolio return in dollars at the 10th, 50th, and 90th percentiles?\n",
    "3. Given the current projected annual income from the Plaid analysis, will a 4% withdraw rate from the retirement portfolio meet or exceed that value at the 10th percentile?\n",
    "4. How would a 50% increase in the initial investment amount affect the 4% retirement withdrawal?"
   ]
  },
  {
   "cell_type": "markdown",
   "metadata": {},
   "source": [
    "### What are the expected cumulative returns at 30 years for the 10th, 50th, and 90th percentiles?"
   ]
  },
  {
   "cell_type": "code",
   "execution_count": null,
   "metadata": {},
   "outputs": [],
   "source": [
    "# YOUR CODE HERE"
   ]
  },
  {
   "cell_type": "markdown",
   "metadata": {},
   "source": [
    "### Given an initial investment of `$20,000`, what is the expected portfolio return in dollars at the 10th, 50th, and 90th percentiles?"
   ]
  },
  {
   "cell_type": "code",
   "execution_count": null,
   "metadata": {},
   "outputs": [],
   "source": [
    "# YOUR CODE HERE"
   ]
  },
  {
   "cell_type": "markdown",
   "metadata": {},
   "source": [
    "### Given the current projected annual income from the Plaid analysis, will a 4% withdraw rate from the retirement portfolio meet or exceed that value at the 10th percentile?\n",
    "\n",
    "Note: This is effectively saying that 90% of the expected returns will be greater than the return at the 10th percentile, so this can help measure the uncertainty about having enough funds at retirement"
   ]
  },
  {
   "cell_type": "code",
   "execution_count": null,
   "metadata": {},
   "outputs": [],
   "source": [
    "# YOUR CODE HERE"
   ]
  },
  {
   "cell_type": "markdown",
   "metadata": {},
   "source": [
    "### How would a 50% increase in the initial investment amount affect the 4% retirement withdrawal?"
   ]
  },
  {
   "cell_type": "code",
   "execution_count": null,
   "metadata": {},
   "outputs": [],
   "source": [
    "# YOUR CODE HERE"
   ]
  },
  {
   "cell_type": "markdown",
   "metadata": {},
   "source": [
    "### Optional Challenge\n",
    "\n",
    "In this section, you will calculate and plot the cumulative returns for the median and 90% confidence intervals. This plot shows the expected cumulative returns for any given day between the first day and the last day of investment. "
   ]
  },
  {
   "cell_type": "code",
   "execution_count": null,
   "metadata": {},
   "outputs": [],
   "source": [
    "# YOUR CODE HERE"
   ]
  }
 ],
 "metadata": {
  "kernel_info": {
   "name": "dev"
  },
  "kernelspec": {
   "display_name": "Python 3",
   "language": "python",
   "name": "python3"
  },
  "language_info": {
   "codemirror_mode": {
    "name": "ipython",
    "version": 3
   },
   "file_extension": ".py",
   "mimetype": "text/x-python",
   "name": "python",
   "nbconvert_exporter": "python",
   "pygments_lexer": "ipython3",
   "version": "3.7.4"
  },
  "nteract": {
   "version": "0.12.3"
  }
 },
 "nbformat": 4,
 "nbformat_minor": 4
}
